{
 "cells": [
  {
   "cell_type": "code",
   "execution_count": 33,
   "id": "4889332c",
   "metadata": {},
   "outputs": [],
   "source": [
    "import  cv2\n",
    "cap = cv2.VideoCapture( 0 )\n",
    "\n",
    "from cvzone.HandTrackingModule import HandDetector\n",
    "detector = HandDetector()\n"
   ]
  },
  {
   "cell_type": "code",
   "execution_count": 34,
   "id": "3f9df445",
   "metadata": {},
   "outputs": [],
   "source": [
    "import os"
   ]
  },
  {
   "cell_type": "code",
   "execution_count": 35,
   "id": "a307ec57",
   "metadata": {},
   "outputs": [],
   "source": [
    "def youtube():\n",
    "    os.system(\"start https://www.youtube.com\")\n",
    "    "
   ]
  },
  {
   "cell_type": "code",
   "execution_count": 36,
   "id": "b44f71ef",
   "metadata": {},
   "outputs": [],
   "source": [
    "def googles():\n",
    "    os.system(\"start https://www.google.com\")"
   ]
  },
  {
   "cell_type": "code",
   "execution_count": 37,
   "id": "2a610b9a",
   "metadata": {},
   "outputs": [],
   "source": [
    "def notepad():\n",
    "    os.system(\"notepad\")"
   ]
  },
  {
   "cell_type": "code",
   "execution_count": 38,
   "id": "9735a44b",
   "metadata": {},
   "outputs": [],
   "source": [
    "def searchs():\n",
    "    os.system(\"start https://www.youtube.com/watch?v=EoxkVkgpdvo&ab_channel=SonyPAL\")"
   ]
  },
  {
   "cell_type": "code",
   "execution_count": 39,
   "id": "fbfd23c7",
   "metadata": {},
   "outputs": [],
   "source": [
    "def mail():\n",
    "    os.system(\"start https://mail.google.com\")\n"
   ]
  },
  {
   "cell_type": "code",
   "execution_count": 40,
   "id": "15034867",
   "metadata": {},
   "outputs": [],
   "source": [
    "while True:\n",
    "    status , photo = cap.read()\n",
    "    cv2.imshow(\"my photo\" , photo)\n",
    "    if cv2.waitKey(100) == 13:\n",
    "        break\n",
    "    \n",
    "    handphoto = detector.findHands(photo , draw=False)\n",
    "    \n",
    "    if handphoto:\n",
    "        lmlist = handphoto[0]\n",
    "        fingerstatus = detector.fingersUp(lmlist)\n",
    "\n",
    "        if fingerstatus == [1,1,1,1,1]:\n",
    "            print(\"all up\")\n",
    "            mail()\n",
    "            \n",
    "        elif fingerstatus == [ 0 ,1 ,0 , 0, 0]:\n",
    "            print(\"index finger up\")\n",
    "            youtube()\n",
    "            \n",
    "    \n",
    "        elif fingerstatus == [ 0 , 1, 1, 0 , 0 ]:\n",
    "            print(\"index and middle finger up\")\n",
    "            googles()\n",
    "        elif fingerstatus == [0,1,1,1,0]:\n",
    "            print(\"three fingers up\")\n",
    "            notepad()\n",
    "            \n",
    "        elif fingerstatus == [0,1,1,1,1]:\n",
    "            print(\"four fingers up\")\n",
    "            searchs()\n",
    "            \n",
    "            \n",
    "           \n",
    "    \n",
    "        else:\n",
    "            print(\"idk\")\n",
    "\n",
    "        \n",
    "cv2.destroyAllWindows()\n",
    "\n"
   ]
  },
  {
   "cell_type": "code",
   "execution_count": 24,
   "id": "5f474c65",
   "metadata": {},
   "outputs": [],
   "source": [
    "\n",
    "cap.release()"
   ]
  },
  {
   "cell_type": "code",
   "execution_count": null,
   "id": "f81b9eae",
   "metadata": {},
   "outputs": [],
   "source": []
  },
  {
   "cell_type": "code",
   "execution_count": null,
   "id": "ff03bf95",
   "metadata": {},
   "outputs": [],
   "source": []
  },
  {
   "cell_type": "code",
   "execution_count": null,
   "id": "a419f187",
   "metadata": {},
   "outputs": [],
   "source": []
  },
  {
   "cell_type": "code",
   "execution_count": null,
   "id": "fd77cdc5",
   "metadata": {},
   "outputs": [],
   "source": []
  }
 ],
 "metadata": {
  "kernelspec": {
   "display_name": "Python 3 (ipykernel)",
   "language": "python",
   "name": "python3"
  },
  "language_info": {
   "codemirror_mode": {
    "name": "ipython",
    "version": 3
   },
   "file_extension": ".py",
   "mimetype": "text/x-python",
   "name": "python",
   "nbconvert_exporter": "python",
   "pygments_lexer": "ipython3",
   "version": "3.8.3"
  }
 },
 "nbformat": 4,
 "nbformat_minor": 5
}
